{
 "cells": [
  {
   "cell_type": "code",
   "execution_count": 9,
   "id": "bc675e58-8674-4ca0-9038-fcb123030ade",
   "metadata": {},
   "outputs": [
    {
     "name": "stdout",
     "output_type": "stream",
     "text": [
      "C:\\python\\python.exe\n"
     ]
    }
   ],
   "source": [
    "import sys\n",
    "print(sys.executable)\n"
   ]
  },
  {
   "cell_type": "code",
   "execution_count": 10,
   "id": "e5e8a00c-02a2-4ac0-b332-4c25e1f2d8f5",
   "metadata": {},
   "outputs": [
    {
     "name": "stdout",
     "output_type": "stream",
     "text": [
      "Collecting lightgbm\n",
      "  Using cached lightgbm-4.6.0-py3-none-win_amd64.whl.metadata (17 kB)\n",
      "Requirement already satisfied: numpy>=1.17.0 in c:\\python\\lib\\site-packages (from lightgbm) (2.2.5)\n",
      "Requirement already satisfied: scipy in c:\\python\\lib\\site-packages (from lightgbm) (1.15.3)\n",
      "Using cached lightgbm-4.6.0-py3-none-win_amd64.whl (1.5 MB)\n",
      "Installing collected packages: lightgbm\n",
      "Successfully installed lightgbm-4.6.0\n"
     ]
    }
   ],
   "source": [
    "!C:\\python\\python.exe -m pip install lightgbm\n"
   ]
  },
  {
   "cell_type": "code",
   "execution_count": 2,
   "id": "2749752e-7fe3-4dd5-be0c-3d9cfc9cc6f7",
   "metadata": {},
   "outputs": [
    {
     "name": "stdout",
     "output_type": "stream",
     "text": [
      "Requirement already satisfied: pip in c:\\python310\\lib\\site-packages (21.2.3)\n",
      "Collecting pip\n",
      "  Downloading pip-25.1.1-py3-none-any.whl (1.8 MB)\n",
      "Installing collected packages: pip\n",
      "  Attempting uninstall: pip\n",
      "    Found existing installation: pip 21.2.3\n",
      "    Uninstalling pip-21.2.3:\n",
      "      Successfully uninstalled pip-21.2.3\n",
      "Successfully installed pip-25.1.1\n"
     ]
    }
   ],
   "source": [
    "!python -m pip install --upgrade pip\n"
   ]
  },
  {
   "cell_type": "code",
   "execution_count": 11,
   "id": "ffe64ef5-e804-4d93-ad7b-25d6586f79df",
   "metadata": {},
   "outputs": [
    {
     "name": "stdout",
     "output_type": "stream",
     "text": [
      "Requirement already satisfied: lightgbm in c:\\python310\\lib\\site-packages (4.6.0)\n",
      "Requirement already satisfied: matplotlib in c:\\python310\\lib\\site-packages (3.10.3)\n",
      "Requirement already satisfied: scikit-learn in c:\\python310\\lib\\site-packages (1.6.1)\n",
      "Requirement already satisfied: scipy in c:\\python310\\lib\\site-packages (1.15.3)\n",
      "Requirement already satisfied: numpy>=1.17.0 in c:\\python310\\lib\\site-packages (from lightgbm) (2.1.2)\n",
      "Requirement already satisfied: contourpy>=1.0.1 in c:\\python310\\lib\\site-packages (from matplotlib) (1.3.2)\n",
      "Requirement already satisfied: cycler>=0.10 in c:\\python310\\lib\\site-packages (from matplotlib) (0.12.1)\n",
      "Requirement already satisfied: fonttools>=4.22.0 in c:\\python310\\lib\\site-packages (from matplotlib) (4.58.0)\n",
      "Requirement already satisfied: kiwisolver>=1.3.1 in c:\\python310\\lib\\site-packages (from matplotlib) (1.4.8)\n",
      "Requirement already satisfied: packaging>=20.0 in c:\\users\\bhomi\\appdata\\roaming\\python\\python310\\site-packages (from matplotlib) (25.0)\n",
      "Requirement already satisfied: pillow>=8 in c:\\python310\\lib\\site-packages (from matplotlib) (11.0.0)\n",
      "Requirement already satisfied: pyparsing>=2.3.1 in c:\\python310\\lib\\site-packages (from matplotlib) (3.2.3)\n",
      "Requirement already satisfied: python-dateutil>=2.7 in c:\\users\\bhomi\\appdata\\roaming\\python\\python310\\site-packages (from matplotlib) (2.9.0.post0)\n",
      "Requirement already satisfied: joblib>=1.2.0 in c:\\python310\\lib\\site-packages (from scikit-learn) (1.5.0)\n",
      "Requirement already satisfied: threadpoolctl>=3.1.0 in c:\\python310\\lib\\site-packages (from scikit-learn) (3.6.0)\n",
      "Requirement already satisfied: six>=1.5 in c:\\users\\bhomi\\appdata\\roaming\\python\\python310\\site-packages (from python-dateutil>=2.7->matplotlib) (1.17.0)\n"
     ]
    }
   ],
   "source": [
    "!pip install lightgbm matplotlib scikit-learn scipy\n"
   ]
  },
  {
   "cell_type": "code",
   "execution_count": 12,
   "id": "42170618-1f72-4b10-b6b5-b782463be35b",
   "metadata": {},
   "outputs": [],
   "source": [
    "import pandas as pd\n",
    "\n",
    "# Load your CSVs (ensure they're in your working directory)\n",
    "train = pd.read_csv(\"train.csv\", parse_dates=[\"date\"])\n",
    "test = pd.read_csv(\"test.csv\", parse_dates=[\"date\"])\n",
    "holidays = pd.read_csv(\"holidays_events.csv\", parse_dates=[\"date\"])\n",
    "sample_submission = pd.read_csv(\"sample_submission.csv\")\n"
   ]
  },
  {
   "cell_type": "code",
   "execution_count": 13,
   "id": "f6369af7-ede2-4b03-afc7-9f862d9a5e8f",
   "metadata": {},
   "outputs": [],
   "source": [
    "# Filter only non-transferred national holidays\n",
    "holidays = holidays[(holidays['transferred'] == False) & (holidays['locale'] == 'National')]\n",
    "holiday_dates = holidays['date'].unique()\n",
    "\n",
    "# Add holiday flag\n",
    "train[\"is_holiday\"] = train[\"date\"].isin(holiday_dates).astype(int)\n",
    "test[\"is_holiday\"] = test[\"date\"].isin(holiday_dates).astype(int)\n",
    "\n",
    "# Create date-based features\n",
    "def create_features(df):\n",
    "    df['dayofweek'] = df['date'].dt.dayofweek\n",
    "    df['month'] = df['date'].dt.month\n",
    "    df['year'] = df['date'].dt.year\n",
    "    return df\n",
    "\n",
    "train = create_features(train)\n",
    "test = create_features(test)\n",
    "\n",
    "# Encode product category\n",
    "from sklearn.preprocessing import LabelEncoder\n",
    "le = LabelEncoder()\n",
    "train['family_enc'] = le.fit_transform(train['family'])\n",
    "test['family_enc'] = le.transform(test['family'])\n"
   ]
  },
  {
   "cell_type": "code",
   "execution_count": 14,
   "id": "6f43281f-e724-4afc-ae66-e51d4bda51b5",
   "metadata": {},
   "outputs": [],
   "source": [
    "# Sort for lag calculation\n",
    "train = train.sort_values(['store_nbr', 'family', 'date'])\n",
    "\n",
    "# Add lags\n",
    "train['lag_1'] = train.groupby(['store_nbr', 'family'])['sales'].shift(1)\n",
    "train['rolling_mean_7'] = train.groupby(['store_nbr', 'family'])['sales'].shift(1).rolling(7).mean()\n",
    "\n",
    "# Drop NaNs from lag\n",
    "train = train.dropna()\n"
   ]
  },
  {
   "cell_type": "code",
   "execution_count": 15,
   "id": "746aa6e1-c0c4-479c-ad04-4b608fb52366",
   "metadata": {},
   "outputs": [
    {
     "name": "stdout",
     "output_type": "stream",
     "text": [
      "[LightGBM] [Info] Auto-choosing row-wise multi-threading, the overhead of testing was 0.111996 seconds.\n",
      "You can set `force_row_wise=true` to remove the overhead.\n",
      "And if memory is not enough, you can set `force_col_wise=true`.\n",
      "[LightGBM] [Info] Total Bins 764\n",
      "[LightGBM] [Info] Number of data points in the train set: 2689572, number of used features: 7\n",
      "[LightGBM] [Info] Start training from score 361.488613\n",
      "MAE on validation set: 53.67832482784312\n"
     ]
    }
   ],
   "source": [
    "from lightgbm import LGBMRegressor\n",
    "from sklearn.model_selection import train_test_split\n",
    "from sklearn.metrics import mean_absolute_error\n",
    "\n",
    "features = ['onpromotion', 'is_holiday', 'dayofweek', 'month', 'lag_1', 'rolling_mean_7', 'family_enc']\n",
    "X = train[features]\n",
    "y = train['sales']\n",
    "\n",
    "X_train, X_val, y_train, y_val = train_test_split(X, y, shuffle=False, test_size=0.1)\n",
    "\n",
    "model = LGBMRegressor()\n",
    "model.fit(X_train, y_train)\n",
    "y_pred = model.predict(X_val)\n",
    "\n",
    "print(\"MAE on validation set:\", mean_absolute_error(y_val, y_pred))\n"
   ]
  },
  {
   "cell_type": "code",
   "execution_count": 16,
   "id": "66789a69-09af-4cb4-bfb9-a45bf7b5ef8e",
   "metadata": {},
   "outputs": [
    {
     "name": "stdout",
     "output_type": "stream",
     "text": [
      "✅ submission.csv saved!\n"
     ]
    }
   ],
   "source": [
    "# Fill lag values in test using last values from train\n",
    "latest = train.groupby(['store_nbr', 'family']).last().reset_index()\n",
    "test = test.merge(latest[['store_nbr', 'family', 'lag_1', 'rolling_mean_7']], on=['store_nbr', 'family'], how='left')\n",
    "\n",
    "# Predict\n",
    "test['sales'] = model.predict(test[features])\n",
    "submission = test[['id', 'sales']]\n",
    "submission.to_csv(\"submission.csv\", index=False)\n",
    "print(\"✅ submission.csv saved!\")\n"
   ]
  },
  {
   "cell_type": "code",
   "execution_count": 17,
   "id": "d8aa72b7-71b6-4438-85d5-97f518d5f1cd",
   "metadata": {},
   "outputs": [
    {
     "name": "stdout",
     "output_type": "stream",
     "text": [
      "✅ inventory_plan.csv saved!\n"
     ]
    }
   ],
   "source": [
    "import numpy as np\n",
    "from scipy.stats import norm\n",
    "\n",
    "def calc_eoq(demand, setup_cost, holding_cost, cv):\n",
    "    return np.sqrt((2 * demand * setup_cost / holding_cost) * (1 + cv**2 / 2))\n",
    "\n",
    "def calc_safety_stock(service_level, std_dev, lead_time):\n",
    "    z = norm.ppf(service_level)\n",
    "    return z * std_dev * np.sqrt(lead_time)\n",
    "\n",
    "inventory_plan = []\n",
    "\n",
    "for (store, family), group in test.groupby(['store_nbr', 'family']):\n",
    "    predicted_demand = group['sales'].sum()\n",
    "    std_dev = group['sales'].std() or 1\n",
    "    eoq = calc_eoq(predicted_demand, setup_cost=100, holding_cost=2, cv=0.3)\n",
    "    safety = calc_safety_stock(service_level=0.95, std_dev=std_dev, lead_time=7)\n",
    "\n",
    "    inventory_plan.append({\n",
    "        'store_nbr': store,\n",
    "        'family': family,\n",
    "        'forecasted_demand': round(predicted_demand, 2),\n",
    "        'EOQ': round(eoq, 2),\n",
    "        'Safety_Stock': round(safety, 2)\n",
    "    })\n",
    "\n",
    "inventory_df = pd.DataFrame(inventory_plan)\n",
    "inventory_df.to_csv(\"inventory_plan.csv\", index=False)\n",
    "print(\"✅ inventory_plan.csv saved!\")\n"
   ]
  },
  {
   "cell_type": "code",
   "execution_count": 18,
   "id": "1ba1ff62-dcf0-443f-925c-b55c90e5559a",
   "metadata": {},
   "outputs": [
    {
     "name": "stdout",
     "output_type": "stream",
     "text": [
      "[LightGBM] [Info] Auto-choosing row-wise multi-threading, the overhead of testing was 0.104638 seconds.\n",
      "You can set `force_row_wise=true` to remove the overhead.\n",
      "And if memory is not enough, you can set `force_col_wise=true`.\n",
      "[LightGBM] [Info] Total Bins 764\n",
      "[LightGBM] [Info] Number of data points in the train set: 2689572, number of used features: 7\n",
      "[LightGBM] [Info] Start training from score 361.488613\n",
      "Validation MAE: 53.68\n"
     ]
    }
   ],
   "source": [
    "# Step 6: Train model\n",
    "features = ['onpromotion', 'is_holiday', 'dayofweek', 'month', 'lag_1', 'rolling_mean_7', 'family_enc']\n",
    "X = train[features]\n",
    "y = train['sales']\n",
    "\n",
    "X_train, X_val, y_train, y_val = train_test_split(X, y, shuffle=False, test_size=0.1)\n",
    "\n",
    "model = LGBMRegressor()\n",
    "model.fit(X_train, y_train)\n",
    "print(f\"Validation MAE: {mean_absolute_error(y_val, model.predict(X_val)):.2f}\")"
   ]
  },
  {
   "cell_type": "code",
   "execution_count": 19,
   "id": "d42e4e59-38e4-4b00-af81-0a051bea227f",
   "metadata": {},
   "outputs": [],
   "source": [
    "# Step 7: Align test set\n",
    "test = test.sort_values(['store_nbr', 'family', 'date'])\n",
    "# Use last 7 days rolling mean and lag from train\n",
    "merge_cols = ['store_nbr', 'family']\n",
    "latest = train.groupby(merge_cols).last().reset_index()\n",
    "test = test.merge(latest[merge_cols + ['lag_1', 'rolling_mean_7']], on=merge_cols, how='left')"
   ]
  },
  {
   "cell_type": "code",
   "execution_count": 21,
   "id": "2b162c71-ddd3-49cb-b240-e351d9bfc99f",
   "metadata": {},
   "outputs": [],
   "source": [
    "# Get latest known lag features from train\n",
    "latest_lags = train.groupby(['store_nbr', 'family'])[['lag_1', 'rolling_mean_7']].last().reset_index()\n",
    "\n",
    "# Merge these into test\n",
    "test = test.merge(latest_lags, on=['store_nbr', 'family'], how='left')\n"
   ]
  },
  {
   "cell_type": "code",
   "execution_count": 23,
   "id": "a96595c1-95d4-4969-b8d7-bb15076ebe87",
   "metadata": {},
   "outputs": [
    {
     "name": "stdout",
     "output_type": "stream",
     "text": [
      "✅ submission.csv saved!\n"
     ]
    }
   ],
   "source": [
    "# Step 8: Predict\n",
    "test['sales'] = model.predict(test[features])\n",
    "\n",
    "# Step 9: Create Submission\n",
    "submission = test[['id', 'sales']]\n",
    "submission.to_csv(\"submission.csv\", index=False)\n",
    "print(\"✅ submission.csv saved!\")"
   ]
  },
  {
   "cell_type": "code",
   "execution_count": 24,
   "id": "427d86cd-9a9e-4cb5-adca-0ccddf6845f7",
   "metadata": {},
   "outputs": [
    {
     "data": {
      "image/png": "[encoded data removed]",
      "text/plain": [
       "<Figure size 1200x600 with 1 Axes>"
      ]
     },
     "metadata": {},
     "output_type": "display_data"
    }
   ],
   "source": [
    "import matplotlib.pyplot as plt\n",
    "\n",
    "# EOQ by category\n",
    "plt.figure(figsize=(12, 6))\n",
    "inventory_df.groupby('family')['EOQ'].mean().sort_values().plot(kind='barh')\n",
    "plt.title(\"Average EOQ per Product Family\")\n",
    "plt.xlabel(\"Units\")\n",
    "plt.grid(True)\n",
    "plt.tight_layout()\n",
    "plt.show()\n"
   ]
  },
  {
   "cell_type": "code",
   "execution_count": 26,
   "id": "a9fceea0-fb61-4c22-b3df-0c4851ddde06",
   "metadata": {},
   "outputs": [
    {
     "name": "stdout",
     "output_type": "stream",
     "text": [
      "Collecting streamlit\n",
      "  Downloading streamlit-1.46.1-py3-none-any.whl.metadata (9.0 kB)\n",
      "Collecting altair<6,>=4.0 (from streamlit)\n",
      "  Downloading altair-5.5.0-py3-none-any.whl.metadata (11 kB)\n",
      "Collecting blinker<2,>=1.5.0 (from streamlit)\n",
      "  Downloading blinker-1.9.0-py3-none-any.whl.metadata (1.6 kB)\n",
      "Collecting cachetools<7,>=4.0 (from streamlit)\n",
      "  Downloading cachetools-6.1.0-py3-none-any.whl.metadata (5.4 kB)\n",
      "Collecting click<9,>=7.0 (from streamlit)\n",
      "  Downloading click-8.2.1-py3-none-any.whl.metadata (2.5 kB)\n",
      "Requirement already satisfied: numpy<3,>=1.23 in c:\\python\\lib\\site-packages (from streamlit) (2.2.5)\n",
      "Requirement already satisfied: packaging<26,>=20 in c:\\users\\bhomi\\appdata\\roaming\\python\\python312\\site-packages (from streamlit) (25.0)\n",
      "Requirement already satisfied: pandas<3,>=1.4.0 in c:\\python\\lib\\site-packages (from streamlit) (2.2.3)\n",
      "Requirement already satisfied: pillow<12,>=7.1.0 in c:\\python\\lib\\site-packages (from streamlit) (11.1.0)\n",
      "Requirement already satisfied: protobuf<7,>=3.20 in c:\\python\\lib\\site-packages (from streamlit) (5.29.4)\n",
      "Collecting pyarrow>=7.0 (from streamlit)\n",
      "  Downloading pyarrow-20.0.0-cp312-cp312-win_amd64.whl.metadata (3.4 kB)\n",
      "Requirement already satisfied: requests<3,>=2.27 in c:\\python\\lib\\site-packages (from streamlit) (2.32.3)\n",
      "Collecting tenacity<10,>=8.1.0 (from streamlit)\n",
      "  Downloading tenacity-9.1.2-py3-none-any.whl.metadata (1.2 kB)\n",
      "Collecting toml<2,>=0.10.1 (from streamlit)\n",
      "  Downloading toml-0.10.2-py2.py3-none-any.whl.metadata (7.1 kB)\n",
      "Requirement already satisfied: typing-extensions<5,>=4.4.0 in c:\\python\\lib\\site-packages (from streamlit) (4.12.2)\n",
      "Collecting watchdog<7,>=2.1.5 (from streamlit)\n",
      "  Downloading watchdog-6.0.0-py3-none-win_amd64.whl.metadata (44 kB)\n",
      "Collecting gitpython!=3.1.19,<4,>=3.0.7 (from streamlit)\n",
      "  Downloading GitPython-3.1.44-py3-none-any.whl.metadata (13 kB)\n",
      "Collecting pydeck<1,>=0.8.0b4 (from streamlit)\n",
      "  Downloading pydeck-0.9.1-py2.py3-none-any.whl.metadata (4.1 kB)\n",
      "Requirement already satisfied: tornado!=6.5.0,<7,>=6.0.3 in c:\\users\\bhomi\\appdata\\roaming\\python\\python312\\site-packages (from streamlit) (6.4.2)\n",
      "Requirement already satisfied: jinja2 in c:\\python\\lib\\site-packages (from altair<6,>=4.0->streamlit) (3.1.5)\n",
      "Requirement already satisfied: jsonschema>=3.0 in c:\\python\\lib\\site-packages (from altair<6,>=4.0->streamlit) (4.23.0)\n",
      "Collecting narwhals>=1.14.2 (from altair<6,>=4.0->streamlit)\n",
      "  Downloading narwhals-1.46.0-py3-none-any.whl.metadata (11 kB)\n",
      "Requirement already satisfied: colorama in c:\\users\\bhomi\\appdata\\roaming\\python\\python312\\site-packages (from click<9,>=7.0->streamlit) (0.4.6)\n",
      "Collecting gitdb<5,>=4.0.1 (from gitpython!=3.1.19,<4,>=3.0.7->streamlit)\n",
      "  Downloading gitdb-4.0.12-py3-none-any.whl.metadata (1.2 kB)\n",
      "Collecting smmap<6,>=3.0.1 (from gitdb<5,>=4.0.1->gitpython!=3.1.19,<4,>=3.0.7->streamlit)\n",
      "  Downloading smmap-5.0.2-py3-none-any.whl.metadata (4.3 kB)\n",
      "Requirement already satisfied: python-dateutil>=2.8.2 in c:\\users\\bhomi\\appdata\\roaming\\python\\python312\\site-packages (from pandas<3,>=1.4.0->streamlit) (2.9.0.post0)\n",
      "Requirement already satisfied: pytz>=2020.1 in c:\\python\\lib\\site-packages (from pandas<3,>=1.4.0->streamlit) (2025.1)\n",
      "Requirement already satisfied: tzdata>=2022.7 in c:\\python\\lib\\site-packages (from pandas<3,>=1.4.0->streamlit) (2025.1)\n",
      "Requirement already satisfied: charset-normalizer<4,>=2 in c:\\python\\lib\\site-packages (from requests<3,>=2.27->streamlit) (3.4.1)\n",
      "Requirement already satisfied: idna<4,>=2.5 in c:\\python\\lib\\site-packages (from requests<3,>=2.27->streamlit) (3.10)\n",
      "Requirement already satisfied: urllib3<3,>=1.21.1 in c:\\python\\lib\\site-packages (from requests<3,>=2.27->streamlit) (2.3.0)\n",
      "Requirement already satisfied: certifi>=2017.4.17 in c:\\python\\lib\\site-packages (from requests<3,>=2.27->streamlit) (2025.1.31)\n",
      "Requirement already satisfied: MarkupSafe>=2.0 in c:\\python\\lib\\site-packages (from jinja2->altair<6,>=4.0->streamlit) (3.0.2)\n",
      "Requirement already satisfied: attrs>=22.2.0 in c:\\python\\lib\\site-packages (from jsonschema>=3.0->altair<6,>=4.0->streamlit) (25.1.0)\n",
      "Requirement already satisfied: jsonschema-specifications>=2023.03.6 in c:\\python\\lib\\site-packages (from jsonschema>=3.0->altair<6,>=4.0->streamlit) (2024.10.1)\n",
      "Requirement already satisfied: referencing>=0.28.4 in c:\\python\\lib\\site-packages (from jsonschema>=3.0->altair<6,>=4.0->streamlit) (0.36.2)\n",
      "Requirement already satisfied: rpds-py>=0.7.1 in c:\\python\\lib\\site-packages (from jsonschema>=3.0->altair<6,>=4.0->streamlit) (0.22.3)\n",
      "Requirement already satisfied: six>=1.5 in c:\\users\\bhomi\\appdata\\roaming\\python\\python312\\site-packages (from python-dateutil>=2.8.2->pandas<3,>=1.4.0->streamlit) (1.17.0)\n",
      "Downloading streamlit-1.46.1-py3-none-any.whl (10.1 MB)\n",
      "   ---------------------------------------- 0.0/10.1 MB ? eta -:--:--\n",
      "   ------ --------------------------------- 1.6/10.1 MB 9.3 MB/s eta 0:00:01\n",
      "   --------------- ------------------------ 3.9/10.1 MB 10.2 MB/s eta 0:00:01\n",
      "   --------------------- ------------------ 5.5/10.1 MB 9.3 MB/s eta 0:00:01\n",
      "   --------------------------------- ------ 8.4/10.1 MB 10.6 MB/s eta 0:00:01\n",
      "   ---------------------------------------- 10.1/10.1 MB 10.1 MB/s eta 0:00:00\n",
      "Downloading altair-5.5.0-py3-none-any.whl (731 kB)\n",
      "   ---------------------------------------- 0.0/731.2 kB ? eta -:--:--\n",
      "   ---------------------------------------- 731.2/731.2 kB 7.6 MB/s eta 0:00:00\n",
      "Downloading blinker-1.9.0-py3-none-any.whl (8.5 kB)\n",
      "Downloading cachetools-6.1.0-py3-none-any.whl (11 kB)\n",
      "Downloading click-8.2.1-py3-none-any.whl (102 kB)\n",
      "Downloading GitPython-3.1.44-py3-none-any.whl (207 kB)\n",
      "Downloading gitdb-4.0.12-py3-none-any.whl (62 kB)\n",
      "Downloading pydeck-0.9.1-py2.py3-none-any.whl (6.9 MB)\n",
      "   ---------------------------------------- 0.0/6.9 MB ? eta -:--:--\n",
      "   ------------- -------------------------- 2.4/6.9 MB 12.2 MB/s eta 0:00:01\n",
      "   ---------------------------- ----------- 5.0/6.9 MB 11.6 MB/s eta 0:00:01\n",
      "   ---------------------------------------  6.8/6.9 MB 11.7 MB/s eta 0:00:01\n",
      "   ---------------------------------------- 6.9/6.9 MB 10.6 MB/s eta 0:00:00\n",
      "Downloading smmap-5.0.2-py3-none-any.whl (24 kB)\n",
      "Downloading tenacity-9.1.2-py3-none-any.whl (28 kB)\n",
      "Downloading toml-0.10.2-py2.py3-none-any.whl (16 kB)\n",
      "Downloading watchdog-6.0.0-py3-none-win_amd64.whl (79 kB)\n",
      "Downloading narwhals-1.46.0-py3-none-any.whl (373 kB)\n",
      "Downloading pyarrow-20.0.0-cp312-cp312-win_amd64.whl (25.7 MB)\n",
      "   ---------------------------------------- 0.0/25.7 MB ? eta -:--:--\n",
      "   --- ------------------------------------ 2.4/25.7 MB 11.2 MB/s eta 0:00:03\n",
      "   ------- -------------------------------- 5.0/25.7 MB 11.6 MB/s eta 0:00:02\n",
      "   ----------- ---------------------------- 7.3/25.7 MB 11.6 MB/s eta 0:00:02\n",
      "   --------------- ------------------------ 10.0/25.7 MB 11.5 MB/s eta 0:00:02\n",
      "   ------------------- -------------------- 12.3/25.7 MB 11.7 MB/s eta 0:00:02\n",
      "   ----------------------- ---------------- 14.9/25.7 MB 11.7 MB/s eta 0:00:01\n",
      "   ------------------------- -------------- 16.3/25.7 MB 11.8 MB/s eta 0:00:01\n",
      "   -------------------------- ------------- 16.8/25.7 MB 10.1 MB/s eta 0:00:01\n",
      "   -------------------------- ------------- 17.0/25.7 MB 9.2 MB/s eta 0:00:01\n",
      "   --------------------------- ------------ 17.6/25.7 MB 8.3 MB/s eta 0:00:01\n",
      "   --------------------------- ------------ 17.8/25.7 MB 7.9 MB/s eta 0:00:01\n",
      "   ---------------------------- ----------- 18.1/25.7 MB 7.3 MB/s eta 0:00:02\n",
      "   ---------------------------- ----------- 18.4/25.7 MB 6.8 MB/s eta 0:00:02\n",
      "   ----------------------------- ---------- 18.6/25.7 MB 6.3 MB/s eta 0:00:02\n",
      "   ----------------------------- ---------- 18.6/25.7 MB 6.3 MB/s eta 0:00:02\n",
      "   ----------------------------- ---------- 18.9/25.7 MB 5.8 MB/s eta 0:00:02\n",
      "   ------------------------------ --------- 19.4/25.7 MB 5.3 MB/s eta 0:00:02\n",
      "   ------------------------------ --------- 19.7/25.7 MB 5.2 MB/s eta 0:00:02\n",
      "   ------------------------------- -------- 20.2/25.7 MB 5.0 MB/s eta 0:00:02\n",
      "   ------------------------------- -------- 20.4/25.7 MB 4.9 MB/s eta 0:00:02\n",
      "   -------------------------------- ------- 20.7/25.7 MB 4.8 MB/s eta 0:00:02\n",
      "   --------------------------------- ------ 21.2/25.7 MB 4.5 MB/s eta 0:00:01\n",
      "   ---------------------------------- ----- 22.0/25.7 MB 4.5 MB/s eta 0:00:01\n",
      "   ----------------------------------- ---- 22.5/25.7 MB 4.4 MB/s eta 0:00:01\n",
      "   ------------------------------------ --- 23.3/25.7 MB 4.4 MB/s eta 0:00:01\n",
      "   ------------------------------------- -- 23.9/25.7 MB 4.3 MB/s eta 0:00:01\n",
      "   -------------------------------------- - 24.4/25.7 MB 4.2 MB/s eta 0:00:01\n",
      "   ---------------------------------------  25.2/25.7 MB 4.2 MB/s eta 0:00:01\n",
      "   ---------------------------------------- 25.7/25.7 MB 4.2 MB/s eta 0:00:00\n",
      "Installing collected packages: watchdog, toml, tenacity, smmap, pyarrow, narwhals, click, cachetools, blinker, pydeck, gitdb, gitpython, altair, streamlit\n",
      "\n",
      "   ----------------------------------------  0/14 [watchdog]\n",
      "   ----- ----------------------------------  2/14 [tenacity]\n",
      "   ----------- ----------------------------  4/14 [pyarrow]\n",
      "   ----------- ----------------------------  4/14 [pyarrow]\n",
      "   ----------- ----------------------------  4/14 [pyarrow]\n",
      "   ----------- ----------------------------  4/14 [pyarrow]\n",
      "   ----------- ----------------------------  4/14 [pyarrow]\n",
      "   ----------- ----------------------------  4/14 [pyarrow]\n",
      "   ----------- ----------------------------  4/14 [pyarrow]\n",
      "   ----------- ----------------------------  4/14 [pyarrow]\n",
      "   ----------- ----------------------------  4/14 [pyarrow]\n",
      "   ----------- ----------------------------  4/14 [pyarrow]\n",
      "   ----------- ----------------------------  4/14 [pyarrow]\n",
      "   ----------- ----------------------------  4/14 [pyarrow]\n",
      "   ----------- ----------------------------  4/14 [pyarrow]\n",
      "   ----------- ----------------------------  4/14 [pyarrow]\n",
      "   ----------- ----------------------------  4/14 [pyarrow]\n",
      "   ----------- ----------------------------  4/14 [pyarrow]\n",
      "   ----------- ----------------------------  4/14 [pyarrow]\n",
      "   ----------- ----------------------------  4/14 [pyarrow]\n",
      "   ----------- ----------------------------  4/14 [pyarrow]\n",
      "   ----------- ----------------------------  4/14 [pyarrow]\n",
      "   ----------- ----------------------------  4/14 [pyarrow]\n",
      "   -------------- -------------------------  5/14 [narwhals]\n",
      "   -------------- -------------------------  5/14 [narwhals]\n",
      "   -------------- -------------------------  5/14 [narwhals]\n",
      "   -------------- -------------------------  5/14 [narwhals]\n",
      "   -------------- -------------------------  5/14 [narwhals]\n",
      "   -------------- -------------------------  5/14 [narwhals]\n",
      "   -------------- -------------------------  5/14 [narwhals]\n",
      "   -------------- -------------------------  5/14 [narwhals]\n",
      "   ----------------- ----------------------  6/14 [click]\n",
      "   -------------------- -------------------  7/14 [cachetools]\n",
      "   ------------------------- --------------  9/14 [pydeck]\n",
      "   ------------------------- --------------  9/14 [pydeck]\n",
      "   ------------------------- --------------  9/14 [pydeck]\n",
      "   ---------------------------- ----------- 10/14 [gitdb]\n",
      "   ------------------------------- -------- 11/14 [gitpython]\n",
      "   ------------------------------- -------- 11/14 [gitpython]\n",
      "   ---------------------------------- ----- 12/14 [altair]\n",
      "   ---------------------------------- ----- 12/14 [altair]\n",
      "   ---------------------------------- ----- 12/14 [altair]\n",
      "   ---------------------------------- ----- 12/14 [altair]\n",
      "   ---------------------------------- ----- 12/14 [altair]\n",
      "   ------------------------------------- -- 13/14 [streamlit]\n",
      "   ------------------------------------- -- 13/14 [streamlit]\n",
      "   ------------------------------------- -- 13/14 [streamlit]\n",
      "   ------------------------------------- -- 13/14 [streamlit]\n",
      "   ------------------------------------- -- 13/14 [streamlit]\n",
      "   ------------------------------------- -- 13/14 [streamlit]\n",
      "   ------------------------------------- -- 13/14 [streamlit]\n",
      "   ------------------------------------- -- 13/14 [streamlit]\n",
      "   ------------------------------------- -- 13/14 [streamlit]\n",
      "   ------------------------------------- -- 13/14 [streamlit]\n",
      "   ------------------------------------- -- 13/14 [streamlit]\n",
      "   ------------------------------------- -- 13/14 [streamlit]\n",
      "   ------------------------------------- -- 13/14 [streamlit]\n",
      "   ------------------------------------- -- 13/14 [streamlit]\n",
      "   ------------------------------------- -- 13/14 [streamlit]\n",
      "   ------------------------------------- -- 13/14 [streamlit]\n",
      "   ------------------------------------- -- 13/14 [streamlit]\n",
      "   ---------------------------------------- 14/14 [streamlit]\n",
      "\n",
      "Successfully installed altair-5.5.0 blinker-1.9.0 cachetools-6.1.0 click-8.2.1 gitdb-4.0.12 gitpython-3.1.44 narwhals-1.46.0 pyarrow-20.0.0 pydeck-0.9.1 smmap-5.0.2 streamlit-1.46.1 tenacity-9.1.2 toml-0.10.2 watchdog-6.0.0\n"
     ]
    }
   ],
   "source": [
    "!C:\\python\\python.exe -m pip install streamlit\n"
   ]
  },
  {
   "cell_type": "code",
   "execution_count": 27,
   "id": "9dfc8395-a496-4cb1-a51b-398b96b761cc",
   "metadata": {},
   "outputs": [],
   "source": [
    "import streamlit as st\n",
    "import pandas as pd\n",
    "import numpy as np\n",
    "from lightgbm import LGBMRegressor\n",
    "from sklearn.preprocessing import LabelEncoder\n",
    "from sklearn.model_selection import train_test_split\n",
    "from sklearn.metrics import mean_absolute_error\n",
    "from scipy.stats import norm\n",
    "import matplotlib.pyplot as plt"
   ]
  },
  {
   "cell_type": "code",
   "execution_count": 28,
   "id": "0729aa22-8d4b-4920-a3cc-15b0634294f8",
   "metadata": {},
   "outputs": [
    {
     "name": "stderr",
     "output_type": "stream",
     "text": [
      "2025-07-09 01:12:31.052 WARNING streamlit.runtime.scriptrunner_utils.script_run_context: Thread 'MainThread': missing ScriptRunContext! This warning can be ignored when running in bare mode.\n",
      "2025-07-09 01:12:31.053 WARNING streamlit.runtime.scriptrunner_utils.script_run_context: Thread 'MainThread': missing ScriptRunContext! This warning can be ignored when running in bare mode.\n",
      "2025-07-09 01:12:31.182 \n",
      "  \u001b[33m\u001b[1mWarning:\u001b[0m to view this Streamlit app on a browser, run it with the following\n",
      "  command:\n",
      "\n",
      "    streamlit run C:\\Users\\bhomi\\AppData\\Roaming\\Python\\Python312\\site-packages\\ipykernel_launcher.py [ARGUMENTS]\n",
      "2025-07-09 01:12:31.183 Thread 'MainThread': missing ScriptRunContext! This warning can be ignored when running in bare mode.\n",
      "2025-07-09 01:12:31.183 Thread 'MainThread': missing ScriptRunContext! This warning can be ignored when running in bare mode.\n"
     ]
    },
    {
     "data": {
      "text/plain": [
       "DeltaGenerator()"
      ]
     },
     "execution_count": 28,
     "metadata": {},
     "output_type": "execute_result"
    }
   ],
   "source": [
    "st.set_page_config(page_title=\"📦 Supply Chain Optimizer\", layout=\"wide\")\n",
    "\n",
    "st.title(\"📦 Supply Chain Forecasting + Inventory Optimization\")"
   ]
  },
  {
   "cell_type": "code",
   "execution_count": 29,
   "id": "5c5ed0f7-e199-4cf5-9205-c5a842067032",
   "metadata": {},
   "outputs": [
    {
     "name": "stderr",
     "output_type": "stream",
     "text": [
      "2025-07-09 01:12:36.817 Thread 'MainThread': missing ScriptRunContext! This warning can be ignored when running in bare mode.\n",
      "2025-07-09 01:12:36.818 Thread 'MainThread': missing ScriptRunContext! This warning can be ignored when running in bare mode.\n",
      "2025-07-09 01:12:36.819 Thread 'MainThread': missing ScriptRunContext! This warning can be ignored when running in bare mode.\n",
      "2025-07-09 01:12:36.819 Thread 'MainThread': missing ScriptRunContext! This warning can be ignored when running in bare mode.\n",
      "2025-07-09 01:12:36.820 Thread 'MainThread': missing ScriptRunContext! This warning can be ignored when running in bare mode.\n",
      "2025-07-09 01:12:36.820 Thread 'MainThread': missing ScriptRunContext! This warning can be ignored when running in bare mode.\n",
      "2025-07-09 01:12:36.822 Thread 'MainThread': missing ScriptRunContext! This warning can be ignored when running in bare mode.\n",
      "2025-07-09 01:12:36.822 Thread 'MainThread': missing ScriptRunContext! This warning can be ignored when running in bare mode.\n",
      "2025-07-09 01:12:36.823 Thread 'MainThread': missing ScriptRunContext! This warning can be ignored when running in bare mode.\n",
      "2025-07-09 01:12:36.824 Thread 'MainThread': missing ScriptRunContext! This warning can be ignored when running in bare mode.\n",
      "2025-07-09 01:12:36.825 Thread 'MainThread': missing ScriptRunContext! This warning can be ignored when running in bare mode.\n",
      "2025-07-09 01:12:36.825 Thread 'MainThread': missing ScriptRunContext! This warning can be ignored when running in bare mode.\n",
      "2025-07-09 01:12:36.826 Thread 'MainThread': missing ScriptRunContext! This warning can be ignored when running in bare mode.\n",
      "2025-07-09 01:12:36.826 Thread 'MainThread': missing ScriptRunContext! This warning can be ignored when running in bare mode.\n",
      "2025-07-09 01:12:36.826 Thread 'MainThread': missing ScriptRunContext! This warning can be ignored when running in bare mode.\n",
      "2025-07-09 01:12:36.827 Thread 'MainThread': missing ScriptRunContext! This warning can be ignored when running in bare mode.\n",
      "2025-07-09 01:12:36.827 Thread 'MainThread': missing ScriptRunContext! This warning can be ignored when running in bare mode.\n",
      "2025-07-09 01:12:36.828 Thread 'MainThread': missing ScriptRunContext! This warning can be ignored when running in bare mode.\n",
      "2025-07-09 01:12:36.828 Thread 'MainThread': missing ScriptRunContext! This warning can be ignored when running in bare mode.\n",
      "2025-07-09 01:12:36.829 Thread 'MainThread': missing ScriptRunContext! This warning can be ignored when running in bare mode.\n",
      "2025-07-09 01:12:36.829 Thread 'MainThread': missing ScriptRunContext! This warning can be ignored when running in bare mode.\n"
     ]
    }
   ],
   "source": [
    "# Sidebar\n",
    "st.sidebar.title(\"Upload Your Data\")\n",
    "train_file = st.sidebar.file_uploader(\"Upload train.csv\", type=\"csv\")\n",
    "test_file = st.sidebar.file_uploader(\"Upload test.csv\", type=\"csv\")\n",
    "holiday_file = st.sidebar.file_uploader(\"Upload holidays_events.csv\", type=\"csv\")"
   ]
  },
  {
   "cell_type": "code",
   "execution_count": 30,
   "id": "2cd8a303-fd2c-4dce-be5b-4d82478f3a86",
   "metadata": {},
   "outputs": [],
   "source": [
    "# Helper Functions\n",
    "def create_features(df):\n",
    "    df['dayofweek'] = df['date'].dt.dayofweek\n",
    "    df['month'] = df['date'].dt.month\n",
    "    df['year'] = df['date'].dt.year\n",
    "    return df\n",
    "\n",
    "def calc_eoq(demand, setup_cost, holding_cost, cv):\n",
    "    return np.sqrt((2 * demand * setup_cost / holding_cost) * (1 + cv**2 / 2))\n",
    "\n",
    "def calc_safety_stock(service_level, std_dev, lead_time):\n",
    "    z = norm.ppf(service_level)\n",
    "    return z * std_dev * np.sqrt(lead_time)"
   ]
  },
  {
   "cell_type": "code",
   "execution_count": 31,
   "id": "907c7c23-5e12-4f99-ac37-1d7db9710cba",
   "metadata": {},
   "outputs": [
    {
     "name": "stderr",
     "output_type": "stream",
     "text": [
      "2025-07-09 01:13:01.186 Thread 'MainThread': missing ScriptRunContext! This warning can be ignored when running in bare mode.\n",
      "2025-07-09 01:13:01.187 Thread 'MainThread': missing ScriptRunContext! This warning can be ignored when running in bare mode.\n",
      "2025-07-09 01:13:01.188 Thread 'MainThread': missing ScriptRunContext! This warning can be ignored when running in bare mode.\n"
     ]
    }
   ],
   "source": [
    "# Main Logic\n",
    "if train_file and test_file and holiday_file:\n",
    "    # Load data\n",
    "    train = pd.read_csv(train_file, parse_dates=['date'])\n",
    "    test = pd.read_csv(test_file, parse_dates=['date'])\n",
    "    holidays = pd.read_csv(holiday_file, parse_dates=['date'])\n",
    "\n",
    "    # Filter holidays\n",
    "    holidays = holidays[(holidays['transferred'] == False) & (holidays['locale'] == 'National')]\n",
    "    holiday_dates = holidays['date'].unique()\n",
    "\n",
    "    # Add holiday feature\n",
    "    train[\"is_holiday\"] = train[\"date\"].isin(holiday_dates).astype(int)\n",
    "    test[\"is_holiday\"] = test[\"date\"].isin(holiday_dates).astype(int)\n",
    "\n",
    "    # Feature engineering\n",
    "    train = create_features(train)\n",
    "    test = create_features(test)\n",
    "\n",
    "    # Encode category\n",
    "    le = LabelEncoder()\n",
    "    train['family_enc'] = le.fit_transform(train['family'])\n",
    "    test['family_enc'] = le.transform(test['family'])\n",
    "\n",
    "    # Lag features\n",
    "    train = train.sort_values(['store_nbr', 'family', 'date'])\n",
    "    train['lag_1'] = train.groupby(['store_nbr', 'family'])['sales'].shift(1)\n",
    "    train['rolling_mean_7'] = train.groupby(['store_nbr', 'family'])['sales'].shift(1).rolling(7).mean()\n",
    "    train = train.dropna()\n",
    "\n",
    "    # Train model\n",
    "    features = ['onpromotion', 'is_holiday', 'dayofweek', 'month', 'lag_1', 'rolling_mean_7', 'family_enc']\n",
    "    X = train[features]\n",
    "    y = train['sales']\n",
    "\n",
    "    X_train, X_val, y_train, y_val = train_test_split(X, y, shuffle=False, test_size=0.1)\n",
    "    model = LGBMRegressor()\n",
    "    model.fit(X_train, y_train)\n",
    "    val_pred = model.predict(X_val)\n",
    "\n",
    "    st.success(f\"✅ Model MAE on Validation: {mean_absolute_error(y_val, val_pred):.2f}\")\n",
    "\n",
    "    # Prepare test set for prediction\n",
    "    latest = train.groupby(['store_nbr', 'family']).last().reset_index()\n",
    "    test = test.merge(latest[['store_nbr', 'family', 'lag_1', 'rolling_mean_7']], on=['store_nbr', 'family'], how='left')\n",
    "\n",
    "    test['sales'] = model.predict(test[features])\n",
    "    forecast = test[['store_nbr', 'family', 'date', 'sales']]\n",
    "\n",
    "    st.subheader(\"🔮 Sample Forecast Results\")\n",
    "    st.dataframe(forecast.head(20))\n",
    "\n",
    "    # Inventory Optimization\n",
    "    inventory_plan = []\n",
    "\n",
    "    for (store, family), group in test.groupby(['store_nbr', 'family']):\n",
    "        predicted_demand = group['sales'].sum()\n",
    "        std_dev = group['sales'].std() or 1\n",
    "        eoq = calc_eoq(predicted_demand, setup_cost=100, holding_cost=2, cv=0.3)\n",
    "        safety = calc_safety_stock(service_level=0.95, std_dev=std_dev, lead_time=7)\n",
    "\n",
    "        inventory_plan.append({\n",
    "            'store_nbr': store,\n",
    "            'family': family,\n",
    "            'forecasted_demand': round(predicted_demand, 2),\n",
    "            'EOQ': round(eoq, 2),\n",
    "            'Safety_Stock': round(safety, 2)\n",
    "        })\n",
    "\n",
    "    inventory_df = pd.DataFrame(inventory_plan)\n",
    "\n",
    "    st.subheader(\"📦 Inventory Plan (EOQ & Safety Stock)\")\n",
    "    st.dataframe(inventory_df.head(20))\n",
    "\n",
    "    # Download buttons\n",
    "    st.download_button(\"📥 Download Forecast CSV\", forecast.to_csv(index=False), file_name=\"submission.csv\")\n",
    "    st.download_button(\"📥 Download Inventory Plan CSV\", inventory_df.to_csv(index=False), file_name=\"inventory_plan.csv\")\n",
    "\n",
    "    # Visualization\n",
    "    st.subheader(\"📊 EOQ by Product Family\")\n",
    "    family_eoq = inventory_df.groupby(\"family\")[\"EOQ\"].mean().sort_values()\n",
    "    fig, ax = plt.subplots(figsize=(12, 6))\n",
    "    family_eoq.plot(kind='barh', ax=ax)\n",
    "    plt.xlabel(\"EOQ\")\n",
    "    plt.title(\"Average EOQ by Product Family\")\n",
    "    st.pyplot(fig)\n",
    "\n",
    "else:\n",
    "    st.info(\"Please upload all 3 required CSV files from the dataset: `train.csv`, `test.csv`, and `holidays_events.csv`.\")"
   ]
  },
  {
   "cell_type": "code",
   "execution_count": 32,
   "id": "65a8d39d-f1fd-4f55-aa11-160dc44efcdc",
   "metadata": {},
   "outputs": [
    {
     "name": "stdout",
     "output_type": "stream",
     "text": [
      "✅ app.py has been created successfully.\n"
     ]
    }
   ],
   "source": [
    "# Paste this in a cell inside supply.ipynb\n",
    "\n",
    "streamlit_code = \"\"\"\n",
    "import streamlit as st\n",
    "import pandas as pd\n",
    "import numpy as np\n",
    "from lightgbm import LGBMRegressor\n",
    "from sklearn.preprocessing import LabelEncoder\n",
    "from sklearn.model_selection import train_test_split\n",
    "from sklearn.metrics import mean_absolute_error\n",
    "from scipy.stats import norm\n",
    "import matplotlib.pyplot as plt\n",
    "\n",
    "st.set_page_config(page_title=\"📦 Supply Chain Optimizer\", layout=\"wide\")\n",
    "\n",
    "st.title(\"📦 Supply Chain Forecasting + Inventory Optimization\")\n",
    "\n",
    "# Sidebar\n",
    "st.sidebar.title(\"Upload Your Data\")\n",
    "train_file = st.sidebar.file_uploader(\"Upload train.csv\", type=\"csv\")\n",
    "test_file = st.sidebar.file_uploader(\"Upload test.csv\", type=\"csv\")\n",
    "holiday_file = st.sidebar.file_uploader(\"Upload holidays_events.csv\", type=\"csv\")\n",
    "\n",
    "# Helper Functions\n",
    "def create_features(df):\n",
    "    df['dayofweek'] = df['date'].dt.dayofweek\n",
    "    df['month'] = df['date'].dt.month\n",
    "    df['year'] = df['date'].dt.year\n",
    "    return df\n",
    "\n",
    "def calc_eoq(demand, setup_cost, holding_cost, cv):\n",
    "    return np.sqrt((2 * demand * setup_cost / holding_cost) * (1 + cv**2 / 2))\n",
    "\n",
    "def calc_safety_stock(service_level, std_dev, lead_time):\n",
    "    z = norm.ppf(service_level)\n",
    "    return z * std_dev * np.sqrt(lead_time)\n",
    "\n",
    "# Main Logic\n",
    "if train_file and test_file and holiday_file:\n",
    "    # Load data\n",
    "    train = pd.read_csv(train_file, parse_dates=['date'])\n",
    "    test = pd.read_csv(test_file, parse_dates=['date'])\n",
    "    holidays = pd.read_csv(holiday_file, parse_dates=['date'])\n",
    "\n",
    "    # Filter holidays\n",
    "    holidays = holidays[(holidays['transferred'] == False) & (holidays['locale'] == 'National')]\n",
    "    holiday_dates = holidays['date'].unique()\n",
    "\n",
    "    # Add holiday feature\n",
    "    train[\"is_holiday\"] = train[\"date\"].isin(holiday_dates).astype(int)\n",
    "    test[\"is_holiday\"] = test[\"date\"].isin(holiday_dates).astype(int)\n",
    "\n",
    "    # Feature engineering\n",
    "    train = create_features(train)\n",
    "    test = create_features(test)\n",
    "\n",
    "    # Encode category\n",
    "    le = LabelEncoder()\n",
    "    train['family_enc'] = le.fit_transform(train['family'])\n",
    "    test['family_enc'] = le.transform(test['family'])\n",
    "\n",
    "    # Lag features\n",
    "    train = train.sort_values(['store_nbr', 'family', 'date'])\n",
    "    train['lag_1'] = train.groupby(['store_nbr', 'family'])['sales'].shift(1)\n",
    "    train['rolling_mean_7'] = train.groupby(['store_nbr', 'family'])['sales'].shift(1).rolling(7).mean()\n",
    "    train = train.dropna()\n",
    "\n",
    "    # Train model\n",
    "    features = ['onpromotion', 'is_holiday', 'dayofweek', 'month', 'lag_1', 'rolling_mean_7', 'family_enc']\n",
    "    X = train[features]\n",
    "    y = train['sales']\n",
    "\n",
    "    X_train, X_val, y_train, y_val = train_test_split(X, y, shuffle=False, test_size=0.1)\n",
    "    model = LGBMRegressor()\n",
    "    model.fit(X_train, y_train)\n",
    "    val_pred = model.predict(X_val)\n",
    "\n",
    "    st.success(f\"✅ Model MAE on Validation: {mean_absolute_error(y_val, val_pred):.2f}\")\n",
    "\n",
    "    # Prepare test set for prediction\n",
    "    latest = train.groupby(['store_nbr', 'family']).last().reset_index()\n",
    "    test = test.merge(latest[['store_nbr', 'family', 'lag_1', 'rolling_mean_7']], on=['store_nbr', 'family'], how='left')\n",
    "\n",
    "    test['sales'] = model.predict(test[features])\n",
    "    forecast = test[['store_nbr', 'family', 'date', 'sales']]\n",
    "\n",
    "    st.subheader(\"🔮 Sample Forecast Results\")\n",
    "    st.dataframe(forecast.head(20))\n",
    "\n",
    "    # Inventory Optimization\n",
    "    inventory_plan = []\n",
    "\n",
    "    for (store, family), group in test.groupby(['store_nbr', 'family']):\n",
    "        predicted_demand = group['sales'].sum()\n",
    "        std_dev = group['sales'].std() or 1\n",
    "        eoq = calc_eoq(predicted_demand, setup_cost=100, holding_cost=2, cv=0.3)\n",
    "        safety = calc_safety_stock(service_level=0.95, std_dev=std_dev, lead_time=7)\n",
    "\n",
    "        inventory_plan.append({\n",
    "            'store_nbr': store,\n",
    "            'family': family,\n",
    "            'forecasted_demand': round(predicted_demand, 2),\n",
    "            'EOQ': round(eoq, 2),\n",
    "            'Safety_Stock': round(safety, 2)\n",
    "        })\n",
    "\n",
    "    inventory_df = pd.DataFrame(inventory_plan)\n",
    "\n",
    "    st.subheader(\"📦 Inventory Plan (EOQ & Safety Stock)\")\n",
    "    st.dataframe(inventory_df.head(20))\n",
    "\n",
    "    # Download buttons\n",
    "    st.download_button(\"📥 Download Forecast CSV\", forecast.to_csv(index=False), file_name=\"submission.csv\")\n",
    "    st.download_button(\"📥 Download Inventory Plan CSV\", inventory_df.to_csv(index=False), file_name=\"inventory_plan.csv\")\n",
    "\n",
    "    # Visualization\n",
    "    st.subheader(\"📊 EOQ by Product Family\")\n",
    "    family_eoq = inventory_df.groupby(\"family\")[\"EOQ\"].mean().sort_values()\n",
    "    import matplotlib.pyplot as plt\n",
    "    fig, ax = plt.subplots(figsize=(12, 6))\n",
    "    family_eoq.plot(kind='barh', ax=ax)\n",
    "    plt.xlabel(\"EOQ\")\n",
    "    plt.title(\"Average EOQ by Product Family\")\n",
    "    st.pyplot(fig)\n",
    "\n",
    "else:\n",
    "    st.info(\"Please upload all 3 required CSV files from the dataset: `train.csv`, `test.csv`, and `holidays_events.csv`.\")\n",
    "\"\"\"\n",
    "\n",
    "# Save to app.py\n",
    "with open(\"app.py\", \"w\", encoding=\"utf-8\") as f:\n",
    "    f.write(streamlit_code)\n",
    "\n",
    "print(\"✅ app.py has been created successfully.\")\n"
   ]
  },
  {
   "cell_type": "code",
   "execution_count": null,
   "id": "4b01291d-35aa-4694-9ebc-d35572a52bcf",
   "metadata": {},
   "outputs": [],
   "source": [
    "!streamlit run app.py\n"
   ]
  },
  {
   "cell_type": "code",
   "execution_count": null,
   "id": "af6176dc-9ffd-4f71-a59d-63f397e5dadd",
   "metadata": {},
   "outputs": [],
   "source": []
  }
 ],
 "metadata": {
  "kernelspec": {
   "display_name": "Python 3 (ipykernel)",
   "language": "python",
   "name": "python3"
  },
  "language_info": {
   "codemirror_mode": {
    "name": "ipython",
    "version": 3
   },
   "file_extension": ".py",
   "mimetype": "text/x-python",
   "name": "python",
   "nbconvert_exporter": "python",
   "pygments_lexer": "ipython3",
   "version": "3.12.8"
  }
 },
 "nbformat": 4,
 "nbformat_minor": 5
}
